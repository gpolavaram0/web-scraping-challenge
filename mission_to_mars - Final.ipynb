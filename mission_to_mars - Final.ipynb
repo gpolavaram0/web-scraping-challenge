{
 "cells": [
  {
   "cell_type": "code",
   "execution_count": 2,
   "metadata": {},
   "outputs": [],
   "source": [
    "from bs4 import BeautifulSoup\n",
    "import requests\n",
    "from splinter import Browser\n",
    "from selenium import webdriver\n",
    "from selenium.webdriver.common.keys import Keys\n",
    "import pandas as pd\n",
    "import time"
   ]
  },
  {
   "cell_type": "code",
   "execution_count": 13,
   "metadata": {
    "tags": [
     "outputPrepend"
    ]
   },
   "outputs": [
    {
     "output_type": "stream",
     "name": "stdout",
     "text": "\nPerseverance is Shaping Up for Launch\n\n\nStacking spacecraft components is one of the final assembly steps before launch to the Red Planet.\n\n\nMORE\n\n\n\n"
    }
   ],
   "source": [
    "#NASA Mars News (BeautifulSoup)\n",
    "\n",
    "#pulling html from webpage with soup\n",
    "response = requests.get(\"https://mars.nasa.gov/#\")\n",
    "src = response.content\n",
    "soup = BeautifulSoup(src, \"html.parser\")\n",
    "\n",
    "#print(soup.prettify)\n",
    "\n",
    "#pulling first article webpage out\n",
    "media_feature_title = soup.find(class_=\"media_feature_title\")\n",
    "news_title = media_feature_title.a.text\n",
    "\n",
    "#pulling paragraph text of first article out\n",
    "description  = soup.find(class_=\"description\")\n",
    "news_p = description.text\n",
    "\n",
    "#printing variables\n",
    "print(news_title)\n",
    "print(news_p)"
   ]
  },
  {
   "cell_type": "code",
   "execution_count": 23,
   "metadata": {},
   "outputs": [
    {
     "output_type": "stream",
     "name": "stdout",
     "text": "https://www.jpl.nasa.gov/spaceimages/images/mediumsize/PIA16029_ip.jpg\n"
    }
   ],
   "source": [
    "#JPL Mars Space Images - Featured Image\n",
    "browser = webdriver.Chrome(r'D:\\Users\\Goutham\\Documents\\BOOTCAMP\\mission to mars - web scraping\\chromedriver_win32\\chromedriver')\n",
    "browser.get(\"https://www.jpl.nasa.gov/spaceimages/?search=&category=Mars\")\n",
    "\n",
    "#using selenium to retrieve url instead of splinter\n",
    "image_partial_url = browser.find_element_by_xpath(\"//a[@class='button fancybox']\").get_attribute(\"data-fancybox-href\")\n",
    "base_partial_url = browser.find_element_by_id('jpl_logo').get_attribute(\"href\")\n",
    "\n",
    "#finding both halves of url and removing a slah from base url\n",
    "featured_image_url = base_partial_url[:-1] + image_partial_url\n",
    "print(featured_image_url)\n"
   ]
  },
  {
   "cell_type": "code",
   "execution_count": 3,
   "metadata": {},
   "outputs": [
    {
     "output_type": "stream",
     "name": "stdout",
     "text": "Mars - Earth Comparison             Mars            Earth\n0               Diameter:         6,779 km        12,742 km\n1                   Mass:  6.39 × 10^23 kg  5.97 × 10^24 kg\n2                  Moons:                2                1\n3      Distance from Sun:   227,943,824 km   149,598,262 km\n4         Length of Year:   687 Earth days      365.24 days\n5            Temperature:    -153 to 20 °C      -88 to 58°C\n"
    }
   ],
   "source": [
    "#Mars Facts (table scraping with Pandas)\n",
    "mars_table= pd.read_html('https://space-facts.com/mars/')\n",
    "\n",
    "#mars_table is HTML string\n",
    "mars_table\n",
    "\n",
    "#mars table df\n",
    "df_mars_table = mars_table[1]\n",
    "\n",
    "#converting df to dict\n",
    "dict_mars_table = df_mars_table.to_dict()\n",
    "\n",
    "print(df_mars_table)"
   ]
  },
  {
   "cell_type": "code",
   "execution_count": 4,
   "metadata": {},
   "outputs": [
    {
     "output_type": "stream",
     "name": "stdout",
     "text": "[{'title': 'Cerberus Hemisphere', 'img_url': 'http://astropedia.astrogeology.usgs.gov/download/Mars/Viking/cerberus_enhanced.tif'}, {'title': 'Schiaparelli Hemisphere', 'img_url': 'http://astropedia.astrogeology.usgs.gov/download/Mars/Viking/schiaparelli_enhanced.tif'}, {'title': 'Syrtis Major Hemisphere', 'img_url': 'http://astropedia.astrogeology.usgs.gov/download/Mars/Viking/syrtis_major_enhanced.tif'}, {'title': 'Valles Marineris Hemisphere', 'img_url': 'http://astropedia.astrogeology.usgs.gov/download/Mars/Viking/valles_marineris_enhanced.tif'}]\n"
    }
   ],
   "source": [
    "#Mars Hemispheres\n",
    "\n",
    "driver = webdriver.Chrome(r'D:\\Users\\Goutham\\Documents\\BOOTCAMP\\mission to mars - web scraping\\chromedriver_win32\\chromedriver')\n",
    "driver.get(\"https://astrogeology.usgs.gov/search/results?q=hemisphere+enhanced&k1=target&v1=Mars\")\n",
    "\n",
    "image_elements = driver.find_elements_by_class_name(\"thumb\")\n",
    "image_elements_index = list(range(len(image_elements)))\n",
    "\n",
    "#dictionary for links and titles as keys and values\n",
    "hemisphere_image_urls = []\n",
    "\n",
    "for element in image_elements_index:\n",
    "    #resetting elements lists everytime for links\n",
    "    image_elements = driver.find_elements_by_class_name(\"thumb\")\n",
    "    image_elements[element].click()\n",
    "\n",
    "    #pull the title and links with Selenium methods\n",
    "    original_url = driver.find_element_by_link_text('Original').get_attribute(\"href\")\n",
    "    hemisphere_title = driver.find_element_by_xpath(\"//h2[@class = 'title']\")\n",
    "\n",
    "    #store links and titles in homework defined variables\n",
    "    img_url = original_url\n",
    "    title = hemisphere_title.text[:-9]\n",
    "\n",
    "    #storing into a dictionary\n",
    "    new_dict = dict()\n",
    "    new_dict[\"title\"] = title\n",
    "    new_dict[\"img_url\"] = img_url\n",
    "\n",
    "    hemisphere_image_urls.append(new_dict)\n",
    "\n",
    "    #back to loop back to homepage to loop through all hemisphere pages\n",
    "    driver.back()\n",
    "\n",
    "#close browser \n",
    "driver.close()\n",
    "\n",
    "print(hemisphere_image_urls)"
   ]
  },
  {
   "cell_type": "code",
   "execution_count": 5,
   "metadata": {},
   "outputs": [],
   "source": []
  }
 ],
 "metadata": {
  "language_info": {
   "codemirror_mode": {
    "name": "ipython",
    "version": 3
   },
   "file_extension": ".py",
   "mimetype": "text/x-python",
   "name": "python",
   "nbconvert_exporter": "python",
   "pygments_lexer": "ipython3",
   "version": "3.7.6-final"
  },
  "orig_nbformat": 2,
  "kernelspec": {
   "name": "python37664bitpythondataconda295494d0ace540d685491cb338ac9b34",
   "display_name": "Python 3.7.6 64-bit ('PythonData': conda)"
  }
 },
 "nbformat": 4,
 "nbformat_minor": 2
}